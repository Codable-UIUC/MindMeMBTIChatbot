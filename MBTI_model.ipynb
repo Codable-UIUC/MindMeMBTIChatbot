{
  "cells": [
    {
      "cell_type": "code",
      "execution_count": 1,
      "metadata": {
        "colab": {
          "base_uri": "https://localhost:8080/"
        },
        "id": "d7eTv9Sy-o3S",
        "outputId": "8df45358-5b29-4242-d4d9-4fa282e43ff8"
      },
      "outputs": [],
      "source": [
        "#!pip install tensorflow_hub\n",
        "#!pip install tensorflow_text\n",
        "#!pip install numpy\n",
        "#!pip install tensorflow\n",
        "#!pip install pandas\n",
        "#!pip install SenticNet\n",
        "#!pip install tensorflow.keras "
      ]
    },
    {
      "cell_type": "code",
      "execution_count": 2,
      "metadata": {
        "colab": {
          "base_uri": "https://localhost:8080/",
          "height": 394
        },
        "id": "fM6VB_Qb-o3U",
        "outputId": "e7328ec1-dc0f-42bc-d0f8-403b482e44cd"
      },
      "outputs": [],
      "source": [
        "import tensorflow_hub as hub\n",
        "import tensorflow_text as text\n",
        "import numpy as np\n",
        "import tensorflow as tf\n",
        "import pandas as pd\n",
        "# from senticnet.senticnet import SenticNet\n",
        "import re\n",
        "import string\n",
        "from tensorflow import keras\n",
        "from tensorflow.keras import datasets, layers, models\n",
        "from sklearn.model_selection import train_test_split\n",
        "#github test first commit"
      ]
    },
    {
      "cell_type": "code",
      "execution_count": 3,
      "metadata": {},
      "outputs": [],
      "source": [
        "# disable GPU\n",
        "#import os\n",
        "#os.environ[\"CUDA_VISIBLE_DEVICES\"] = \"-1\""
      ]
    },
    {
      "cell_type": "code",
      "execution_count": 4,
      "metadata": {},
      "outputs": [
        {
          "name": "stdout",
          "output_type": "stream",
          "text": [
            "Num GPUs Available:  1\n"
          ]
        }
      ],
      "source": [
        "print(\"Num GPUs Available: \", len(tf.config.list_physical_devices('GPU')))"
      ]
    },
    {
      "cell_type": "code",
      "execution_count": 5,
      "metadata": {
        "id": "BUoLkQP6-o3W"
      },
      "outputs": [],
      "source": [
        "preprocess_url = \"https://tfhub.dev/tensorflow/bert_en_uncased_preprocess/3\"\n",
        "encoder_url = \"https://tfhub.dev/tensorflow/bert_en_uncased_L-12_H-768_A-12/4\""
      ]
    },
    {
      "cell_type": "code",
      "execution_count": 6,
      "metadata": {
        "colab": {
          "base_uri": "https://localhost:8080/"
        },
        "id": "Q1yt5O3Z-o3X",
        "outputId": "4247dfb7-5b44-4f16-9b48-2f993db5fd43"
      },
      "outputs": [
        {
          "name": "stdout",
          "output_type": "stream",
          "text": [
            "WARNING:tensorflow:Please fix your imports. Module tensorflow.python.training.tracking.data_structures has been moved to tensorflow.python.trackable.data_structures. The old module will be deleted in version 2.11.\n"
          ]
        }
      ],
      "source": [
        "bert_preprocess_model = hub.KerasLayer(preprocess_url)\n",
        "bert_model = hub.KerasLayer(encoder_url)"
      ]
    },
    {
      "cell_type": "code",
      "execution_count": 7,
      "metadata": {
        "id": "AuqSKbSl-o3Y"
      },
      "outputs": [],
      "source": [
        "# input : 126 words as sentence  if exceeds 126, split it, if less than 126 apply padding of 0.\n",
        "# output : 128 * 768\n",
        "\n",
        "def bert_process(text_to_process):\n",
        "    text_preprocessed = bert_preprocess_model(text_to_process)\n",
        "\n",
        "    inputk = {'input_word_ids' : [], 'input_mask': [], 'input_type_ids': []}\n",
        "    \n",
        "    for i in text_preprocessed.keys():\n",
        "        index = 0\n",
        "\n",
        "        for arr in text_preprocessed[i]:\n",
        "            arr = list(arr.numpy())\n",
        "            arr = list(filter(lambda num: num != 0, arr))\n",
        "            if len(inputk[i]) == 0:\n",
        "                inputk[i].append(arr)\n",
        "            else:\n",
        "                inputk[i][index] = list(filter(lambda num: num != 0, inputk[i][index]))\n",
        "                if len(inputk[i][index]) + len(arr) -1 > 128:\n",
        "                    inputk[i].append(arr)\n",
        "                    lengthwithoutzero = len(inputk[i][index])\n",
        "                    padd = [0]*(128-lengthwithoutzero)\n",
        "                    inputk[i][index].extend(padd) \n",
        "                    index += 1\n",
        "                else:\n",
        "                    inputk[i][index].extend(arr[1:])             \n",
        "        lengthwithoutzero = len(inputk[i][index])\n",
        "        padd = [0]*(128-lengthwithoutzero)\n",
        "        inputk[i][index].extend(padd)\n",
        "\n",
        "    if len(inputk[\"input_word_ids\"]) < 6:\n",
        "        paddinput = [0]*128\n",
        "        for arr in range((6-len(inputk[\"input_word_ids\"]))):\n",
        "            inputk[\"input_word_ids\"].append(paddinput)\n",
        "            inputk[\"input_mask\"].append(paddinput)\n",
        "\n",
        "            \n",
        "    inputk[\"input_mask\"] = tf.convert_to_tensor(inputk[\"input_mask\"])\n",
        "    inputk[\"input_type_ids\"] = tf.convert_to_tensor(inputk[\"input_type_ids\"])\n",
        "    inputk[\"input_word_ids\"] = tf.convert_to_tensor(inputk[\"input_word_ids\"])\n",
        "\n",
        "    bert_results = bert_model(inputk)\n",
        "    tempres = (bert_results[\"sequence_output\"].numpy()).tolist()\n",
        "    \n",
        "    return tempres"
      ]
    },
    {
      "cell_type": "code",
      "execution_count": 8,
      "metadata": {},
      "outputs": [],
      "source": [
        "def clean_text(text):\n",
        "    regex = re.compile('[%s]' % re.escape('|'))\n",
        "    text = regex.sub(\" \", text)\n",
        "    words = str(text).split()\n",
        "    words = [i.lower() + \" \" for i in words]\n",
        "    words = [i for i in words if not \"http\" in i]\n",
        "    words = \" \".join(words)\n",
        "    # words = words.translate(words.maketrans('', '', string.punctuation))\n",
        "    return words"
      ]
    },
    {
      "cell_type": "code",
      "execution_count": 9,
      "metadata": {},
      "outputs": [],
      "source": [
        "alphabets= \"([A-Za-z])\"\n",
        "prefixes = \"(Mr|St|Mrs|Ms|Dr)[.]\"\n",
        "suffixes = \"(Inc|Ltd|Jr|Sr|Co)\"\n",
        "starters = \"(Mr|Mrs|Ms|Dr|He\\s|She\\s|It\\s|They\\s|Their\\s|Our\\s|We\\s|But\\s|However\\s|That\\s|This\\s|Wherever)\"\n",
        "acronyms = \"([A-Z][.][A-Z][.](?:[A-Z][.])?)\"\n",
        "websites = \"[.](com|net|org|io|gov|watch)\"\n",
        "digits = \"([0-9])\"\n",
        "\n",
        "def split_into_sentences(text):\n",
        "    text = \" \" + text + \"  \"\n",
        "    text = text.replace(\"\\n\",\" \")\n",
        "    text = re.sub(prefixes,\"\\\\1<prd>\",text)\n",
        "    text = re.sub(websites,\"<prd>\\\\1\",text)\n",
        "    text = re.sub(digits + \"[.]\" + digits,\"\\\\1<prd>\\\\2\",text)\n",
        "    if \"...\" in text: text = text.replace(\"...\",\"<prd><prd><prd>\")\n",
        "    if \"Ph.D\" in text: text = text.replace(\"Ph.D.\",\"Ph<prd>D<prd>\")\n",
        "    text = re.sub(\"\\s\" + alphabets + \"[.] \",\" \\\\1<prd> \",text)\n",
        "    text = re.sub(acronyms+\" \"+starters,\"\\\\1<stop> \\\\2\",text)\n",
        "    text = re.sub(alphabets + \"[.]\" + alphabets + \"[.]\" + alphabets + \"[.]\",\"\\\\1<prd>\\\\2<prd>\\\\3<prd>\",text)\n",
        "    text = re.sub(alphabets + \"[.]\" + alphabets + \"[.]\",\"\\\\1<prd>\\\\2<prd>\",text)\n",
        "    text = re.sub(\" \"+suffixes+\"[.] \"+starters,\" \\\\1<stop> \\\\2\",text)\n",
        "    text = re.sub(\" \"+suffixes+\"[.]\",\" \\\\1<prd>\",text)\n",
        "    text = re.sub(\" \" + alphabets + \"[.]\",\" \\\\1<prd>\",text)\n",
        "    if \"”\" in text: text = text.replace(\".”\",\"”.\")\n",
        "    if \"\\\"\" in text: text = text.replace(\".\\\"\",\"\\\".\")\n",
        "    if \"!\" in text: text = text.replace(\"!\\\"\",\"\\\"!\")\n",
        "    if \"?\" in text: text = text.replace(\"?\\\"\",\"\\\"?\")\n",
        "    text = text.replace(\".\",\".<stop>\")\n",
        "    text = text.replace(\"?\",\"?<stop>\")\n",
        "    text = text.replace(\"!\",\"!<stop>\")\n",
        "    text = text.replace(\"|||\",\"<stop>\")\n",
        "    text = text.replace(\"<prd>\",\".\")\n",
        "    sentences = text.split(\"<stop>\")\n",
        "    sentences = sentences[:-1]\n",
        "    sentences = [s.strip() for s in sentences]\n",
        "    return sentences"
      ]
    },
    {
      "cell_type": "code",
      "execution_count": 10,
      "metadata": {},
      "outputs": [],
      "source": [
        "MBTI = pd.read_csv('mbti_1.csv')\n",
        "data = []"
      ]
    },
    {
      "cell_type": "code",
      "execution_count": 11,
      "metadata": {
        "id": "RLGkUPgS-o3e"
      },
      "outputs": [],
      "source": [
        "# sample is number of samples being used.\n",
        "# total data = \n",
        "# [sample, 6, 128, 768]\n",
        "\n",
        "# sample = 1000\n",
        "\n",
        "# for n in range(1,int(sample/100) + 1):\n",
        "#     for post in MBTI[\"posts\"][100*(n-1):(100 * n)]:\n",
        "#         sentence = clean_text(str(post))\n",
        "#         sentence = split_into_sentences(sentence)\n",
        "#         if len(sentence) < 50:\n",
        "#             temp = [\"\"] * (50-len(sentence))\n",
        "#             sentence = sentence + temp\n",
        "#         processedinput = bert_process(sentence)\n",
        "#         data.append(processedinput[:6])\n",
        "\n",
        "\n",
        "# for n in range(3, 11):\n",
        "#     for post in MBTI[\"posts\"][100*(n-1):(100 * n)]:\n",
        "#         sentence = clean_text(str(post))\n",
        "#         sentence = split_into_sentences(sentence)\n",
        "#         processedinput = bert_process(sentence)\n",
        "#         data.append(processedinput[:6])\n",
        "\n",
        "labels = []\n",
        "templabels = MBTI[\"type\"]\n",
        "labelmap = {\"I\" : 0.0, \"E\": 1.0, \"N\": 0.0, \"S\" : 1.0, \"F\": 0.0, \"T\": 1.0, \"J\": 0.0, \"P\": 1.0}\n",
        "\n",
        "\n",
        "for l in templabels:\n",
        "    labels.append([labelmap[l[0]], labelmap[l[1]], labelmap[l[2]], labelmap[l[3]]])\n",
        "\n",
        "Y_label = []\n",
        "\n",
        "# for n in range(1, 2):\n",
        "#     for post in MBTI[\"posts\"][100*(n-1):(100 * n)]:\n",
        "#         sentence = clean_text(str(post))\n",
        "#         sentence = split_into_sentences(sentence)\n",
        "#         processedinput = bert_process(sentence)\n",
        "#         data.append(processedinput[:6])\n",
        "\n",
        "k=0\n",
        "\n",
        "for n in range(5*7+1, 5*(7+1)+1):\n",
        "    for idx in range(100*(n-1),(100 * n)):\n",
        "        post = MBTI[\"posts\"][idx]\n",
        "        sentence = clean_text(str(post))\n",
        "        sentence = split_into_sentences(sentence)\n",
        "        if len(sentence) != 0:\n",
        "            processedinput = bert_process(sentence)\n",
        "            data.append(processedinput[:14])\n",
        "            del processedinput\n",
        "            Y_label.append(labels[idx])"
      ]
    },
    {
      "cell_type": "code",
      "execution_count": 12,
      "metadata": {
        "colab": {
          "base_uri": "https://localhost:8080/"
        },
        "id": "SNCFMVrK-o3f",
        "outputId": "c08a9eff-b9b2-4138-8e1c-2ae066e52e82"
      },
      "outputs": [
        {
          "name": "stdout",
          "output_type": "stream",
          "text": [
            "100\n",
            "6\n",
            "128\n",
            "768\n"
          ]
        }
      ],
      "source": [
        "print(len(data))\n",
        "print(len(data[0]))\n",
        "print(len(processedinput[0]))\n",
        "print(len(processedinput[0][0]))"
      ]
    },
    {
      "cell_type": "code",
      "execution_count": 13,
      "metadata": {},
      "outputs": [],
      "source": [
        "# print(len(data))\n",
        "# for i in data:\n",
        "#     if len(i) != 6:\n",
        "#         print(len(i))"
      ]
    },
    {
      "cell_type": "code",
      "execution_count": 14,
      "metadata": {
        "id": "CECaROa4-o3g"
      },
      "outputs": [
        {
          "data": {
            "text/plain": [
              "'\\n# labels = []\\nIElabels = []\\nNSlabels = []\\nFTlabels = []\\nJPlabels = []\\n\\ntemplabels = MBTI[\"type\"]\\n# labelmap = {\"INTJ\" : 0.0, \"INTP\": 1.0, \"ENTJ\": 2.0, \"ENTP\" : 3.0, \"INFJ\": 4.0, \"INFP\": 5.0, \"ENFJ\": 6.0, \"ENFP\": 7.0, \"ISTJ\": 8.0, \"ISFJ\": 9.0, \"ESTJ\": 10.0, \"ESFJ\": 11.0, \"ISTP\": 12.0, \"ISFP\": 13.0, \"ESTP\": 14.0, \"ESFP\": 15.0}\\n# labeindex = [\"INTJ\", \"INTP\", \"ENTJ\", \"ENTP\", \"INFJ\", \"INFP\", \"ENFJ\", \"ENFP\", \"ISTJ\", \"ISFJ\", \"ESTJ\", \"ESFJ\", \"ISTP\", \"ISFP\", \"ESTP\", \"ESFP\"]\\nlabelmap = {\"I\" : 0.0, \"E\": 1.0, \"N\": 0.0, \"S\" : 1.0, \"F\": 0.0, \"T\": 1.0, \"J\": 0.0, \"P\": 1.0}\\n\\nfor l in templabels:\\n    IElabels.append(labelmap[l[0]])\\n    NSlabels.append(labelmap[l[1]])\\n    FTlabels.append(labelmap[l[2]])\\n    JPlabels.append(labelmap[l[3]])\\n'"
            ]
          },
          "execution_count": 14,
          "metadata": {},
          "output_type": "execute_result"
        }
      ],
      "source": [
        "'''\n",
        "# labels = []\n",
        "IElabels = []\n",
        "NSlabels = []\n",
        "FTlabels = []\n",
        "JPlabels = []\n",
        "\n",
        "templabels = MBTI[\"type\"]\n",
        "# labelmap = {\"INTJ\" : 0.0, \"INTP\": 1.0, \"ENTJ\": 2.0, \"ENTP\" : 3.0, \"INFJ\": 4.0, \"INFP\": 5.0, \"ENFJ\": 6.0, \"ENFP\": 7.0, \"ISTJ\": 8.0, \"ISFJ\": 9.0, \"ESTJ\": 10.0, \"ESFJ\": 11.0, \"ISTP\": 12.0, \"ISFP\": 13.0, \"ESTP\": 14.0, \"ESFP\": 15.0}\n",
        "# labeindex = [\"INTJ\", \"INTP\", \"ENTJ\", \"ENTP\", \"INFJ\", \"INFP\", \"ENFJ\", \"ENFP\", \"ISTJ\", \"ISFJ\", \"ESTJ\", \"ESFJ\", \"ISTP\", \"ISFP\", \"ESTP\", \"ESFP\"]\n",
        "labelmap = {\"I\" : 0.0, \"E\": 1.0, \"N\": 0.0, \"S\" : 1.0, \"F\": 0.0, \"T\": 1.0, \"J\": 0.0, \"P\": 1.0}\n",
        "\n",
        "for l in templabels:\n",
        "    IElabels.append(labelmap[l[0]])\n",
        "    NSlabels.append(labelmap[l[1]])\n",
        "    FTlabels.append(labelmap[l[2]])\n",
        "    JPlabels.append(labelmap[l[3]])\n",
        "'''"
      ]
    },
    {
      "cell_type": "code",
      "execution_count": 15,
      "metadata": {},
      "outputs": [],
      "source": [
        "labels = []\n",
        "templabels = MBTI[\"type\"]\n",
        "labelmap = {\"I\" : 0.0, \"E\": 1.0, \"N\": 0.0, \"S\" : 1.0, \"F\": 0.0, \"T\": 1.0, \"J\": 0.0, \"P\": 1.0}\n",
        "\n",
        "\n",
        "for l in templabels:\n",
        "    labels.append([labelmap[l[0]], labelmap[l[1]], labelmap[l[2]], labelmap[l[3]]])"
      ]
    },
    {
      "cell_type": "markdown",
      "metadata": {
        "id": "-cNA8LPXEH_K"
      },
      "source": [
        "#split train, val, test data\n"
      ]
    },
    {
      "cell_type": "code",
      "execution_count": 16,
      "metadata": {},
      "outputs": [
        {
          "name": "stdout",
          "output_type": "stream",
          "text": [
            "[1.0, 0.0, 1.0, 1.0]\n"
          ]
        }
      ],
      "source": [
        "print(labels[1])"
      ]
    },
    {
      "cell_type": "code",
      "execution_count": 21,
      "metadata": {},
      "outputs": [],
      "source": [
        "Y_label = labels[:100]"
      ]
    },
    {
      "cell_type": "code",
      "execution_count": 22,
      "metadata": {
        "id": "w5m7rff4MEIJ"
      },
      "outputs": [
        {
          "data": {
            "text/plain": [
              "'\\nY_IE_label = IElabels[:sample]\\nY_NS_label = NSlabels[:sample]\\nY_FT_label = FTlabels[:sample]\\nY_JP_label = JPlabels[:sample]\\n'"
            ]
          },
          "execution_count": 22,
          "metadata": {},
          "output_type": "execute_result"
        }
      ],
      "source": [
        "'''\n",
        "Y_IE_label = IElabels[:sample]\n",
        "Y_NS_label = NSlabels[:sample]\n",
        "Y_FT_label = FTlabels[:sample]\n",
        "Y_JP_label = JPlabels[:sample]\n",
        "'''"
      ]
    },
    {
      "cell_type": "code",
      "execution_count": 23,
      "metadata": {},
      "outputs": [],
      "source": [
        "# sum of val data and test data\n",
        "TEST_SIZE = 0.4\n",
        "# portion of val from test\n",
        "VAL_SIZE = 0.5"
      ]
    },
    {
      "cell_type": "code",
      "execution_count": 24,
      "metadata": {
        "id": "uvUNoyq9JSw0"
      },
      "outputs": [],
      "source": [
        "# split IE_label to test train\n",
        "X_train, X_test, Y_train, Y_test = train_test_split(\n",
        "    data, Y_label, test_size=TEST_SIZE, random_state=42)"
      ]
    },
    {
      "cell_type": "code",
      "execution_count": 25,
      "metadata": {
        "id": "q6-x350eRFkX"
      },
      "outputs": [],
      "source": [
        "# split IE_label to test val\n",
        "X_val, X_test, Y_val, Y_test = train_test_split(\n",
        "    X_test, Y_test, test_size = VAL_SIZE, random_state=42)"
      ]
    },
    {
      "cell_type": "code",
      "execution_count": 26,
      "metadata": {},
      "outputs": [],
      "source": [
        "# split IE_label to test train\n",
        "#X_train, X_IEtest, Y_train, Y_IEtest = train_test_split(\n",
        "#    data, Y_IE_label, test_size=TEST_SIZE, random_state=42)"
      ]
    },
    {
      "cell_type": "code",
      "execution_count": 27,
      "metadata": {},
      "outputs": [],
      "source": [
        "# split IE_label to test val\n",
        "#X_IE_val, X_IE_test, Y_IE_val, Y_IE_test = train_test_split(\n",
        "#    X_IEtest, Y_IEtest, test_size = VAL_SIZE, random_state=42)"
      ]
    },
    {
      "cell_type": "code",
      "execution_count": 28,
      "metadata": {
        "id": "medAcv-7KIY0"
      },
      "outputs": [],
      "source": [
        "# split NS_label to test train\n",
        "#X_train, X_NStest, Y_train, Y_NStest = train_test_split(\n",
        "#    data, Y_NS_label, test_size = TEST_SIZE, random_state=42)"
      ]
    },
    {
      "cell_type": "code",
      "execution_count": 29,
      "metadata": {
        "id": "M98SMgiZRzPr"
      },
      "outputs": [],
      "source": [
        "# split NS_label to test val\n",
        "#X_NS_val, X_NS_test, Y_NS_val, Y_NS_test = train_test_split(\n",
        "#    X_NStest, Y_NStest, test_size = VAL_SIZE, random_state=42)"
      ]
    },
    {
      "cell_type": "code",
      "execution_count": 30,
      "metadata": {
        "id": "EjLWlj1SN2hH"
      },
      "outputs": [],
      "source": [
        "# split FT_label to test train\n",
        "#X_train, X_FTtest, Y_train, Y_FTtest = train_test_split(\n",
        "#    data, Y_FT_label, test_size = TEST_SIZE, random_state=42)"
      ]
    },
    {
      "cell_type": "code",
      "execution_count": 31,
      "metadata": {
        "id": "O-RpllVuSmm4"
      },
      "outputs": [],
      "source": [
        "# split FT_label to test val\n",
        "#X_FT_val, X_FT_test, Y_FT_val, Y_FT_test = train_test_split(\n",
        "#    X_FTtest, Y_FTtest, test_size = VAL_SIZE, random_state=42)"
      ]
    },
    {
      "cell_type": "code",
      "execution_count": 32,
      "metadata": {
        "id": "6I8L8147N7OV"
      },
      "outputs": [],
      "source": [
        "# split JP_label to test train\n",
        "#X_train, X_JPtest, Y_train, Y_JPtest = train_test_split(\n",
        "#    data, Y_JP_label, test_size = TEST_SIZE, random_state=42)"
      ]
    },
    {
      "cell_type": "code",
      "execution_count": 33,
      "metadata": {
        "id": "asCWpEI0Sx1b"
      },
      "outputs": [],
      "source": [
        "# split JP_label to test val\n",
        "#X_JP_val, X_JP_test, Y_JP_val, Y_JP_test = train_test_split(\n",
        "#    X_JPtest, Y_JPtest, test_size = VAL_SIZE, random_state=42)"
      ]
    },
    {
      "cell_type": "markdown",
      "metadata": {},
      "source": []
    },
    {
      "cell_type": "markdown",
      "metadata": {
        "id": "pcw7jcZoQZLH"
      },
      "source": [
        "# IE model"
      ]
    },
    {
      "cell_type": "code",
      "execution_count": 34,
      "metadata": {
        "id": "JfwvjN0i-o3i"
      },
      "outputs": [],
      "source": [
        "#convert to tensor\n",
        "X_train = tf.convert_to_tensor(X_train)\n",
        "Y_train = tf.convert_to_tensor(Y_train)\n",
        "X_val = tf.convert_to_tensor(X_val)\n",
        "Y_val = tf.convert_to_tensor(Y_val)\n",
        "X_test = tf.convert_to_tensor(X_test)\n",
        "Y_test = tf.convert_to_tensor(Y_test)"
      ]
    },
    {
      "cell_type": "code",
      "execution_count": 35,
      "metadata": {
        "id": "3NZKUy8C-o3l"
      },
      "outputs": [],
      "source": [
        "# model constructor for CNN classification\n",
        "def model_fn() :\n",
        "  model = models.Sequential()\n",
        "  model.add(layers.Conv2D(32, (1, 3), activation='leaky_relu', input_shape=X_train.shape[1:]))\n",
        "  model.add(layers.Conv2D(32, (3, 5), activation='leaky_relu', padding = 'same'))\n",
        "  model.add(layers.Conv2D(32, (5, 5), activation='leaky_relu', padding = 'same'))\n",
        "  model.add(layers.Conv2D(32, (5, 3), activation='leaky_relu', padding = 'same'))\n",
        "  model.add(layers.Conv2D(32, (3, 1), activation='leaky_relu', padding = 'same'))\n",
        "\n",
        "  # dropout\n",
        "  # model.add(layers.Dropout(0.3))\n",
        "  # fully connected layer\n",
        "  model.add(layers.Flatten())\n",
        "  model.add(layers.Dense(128, activation='sigmoid'))\n",
        "  model.add(layers.Dense(4, activation='sigmoid'))\n",
        "  #\n",
        "  return model"
      ]
    },
    {
      "cell_type": "code",
      "execution_count": 36,
      "metadata": {
        "colab": {
          "base_uri": "https://localhost:8080/"
        },
        "id": "AEtcfBtg-o3l",
        "outputId": "37e675a3-9cfe-409e-c212-50e8212d29dd"
      },
      "outputs": [
        {
          "name": "stdout",
          "output_type": "stream",
          "text": [
            "Model: \"sequential\"\n",
            "_________________________________________________________________\n",
            " Layer (type)                Output Shape              Param #   \n",
            "=================================================================\n",
            " conv2d (Conv2D)             (None, 6, 126, 32)        73760     \n",
            "                                                                 \n",
            " conv2d_1 (Conv2D)           (None, 6, 126, 32)        15392     \n",
            "                                                                 \n",
            " conv2d_2 (Conv2D)           (None, 6, 126, 32)        25632     \n",
            "                                                                 \n",
            " conv2d_3 (Conv2D)           (None, 6, 126, 32)        15392     \n",
            "                                                                 \n",
            " conv2d_4 (Conv2D)           (None, 6, 126, 32)        3104      \n",
            "                                                                 \n",
            " flatten (Flatten)           (None, 24192)             0         \n",
            "                                                                 \n",
            " dense (Dense)               (None, 128)               3096704   \n",
            "                                                                 \n",
            " dense_1 (Dense)             (None, 4)                 516       \n",
            "                                                                 \n",
            "=================================================================\n",
            "Total params: 3,230,500\n",
            "Trainable params: 3,230,500\n",
            "Non-trainable params: 0\n",
            "_________________________________________________________________\n"
          ]
        }
      ],
      "source": [
        "model = model_fn()\n",
        "model.summary()"
      ]
    },
    {
      "cell_type": "code",
      "execution_count": 37,
      "metadata": {},
      "outputs": [],
      "source": [
        "# model = tf.keras.models.load_model('saved_model.h5')\n"
      ]
    },
    {
      "cell_type": "code",
      "execution_count": 38,
      "metadata": {
        "colab": {
          "base_uri": "https://localhost:8080/"
        },
        "id": "DgXWxoX9-o3m",
        "outputId": "ab35700e-e6ba-4f04-c49e-ad6e97a7aa8a"
      },
      "outputs": [
        {
          "name": "stdout",
          "output_type": "stream",
          "text": [
            "Epoch 1/15\n",
            "2/2 [==============================] - 10s 1s/step - loss: 0.6820 - accuracy: 0.3000 - val_loss: 0.5751 - val_accuracy: 0.1500\n",
            "Epoch 2/15\n",
            "2/2 [==============================] - 0s 83ms/step - loss: 0.5239 - accuracy: 0.2667 - val_loss: 0.5908 - val_accuracy: 0.1500\n",
            "Epoch 3/15\n",
            "2/2 [==============================] - 0s 115ms/step - loss: 0.4638 - accuracy: 0.2667 - val_loss: 0.5824 - val_accuracy: 0.1500\n",
            "Epoch 4/15\n",
            "2/2 [==============================] - 0s 109ms/step - loss: 0.4092 - accuracy: 0.2833 - val_loss: 0.5739 - val_accuracy: 0.1500\n",
            "Epoch 5/15\n",
            "2/2 [==============================] - 0s 111ms/step - loss: 0.3344 - accuracy: 0.5500 - val_loss: 0.5757 - val_accuracy: 0.1500\n",
            "Epoch 6/15\n",
            "2/2 [==============================] - 0s 143ms/step - loss: 0.2364 - accuracy: 0.5000 - val_loss: 0.7366 - val_accuracy: 0.3500\n",
            "Epoch 7/15\n",
            "2/2 [==============================] - 0s 113ms/step - loss: 0.2101 - accuracy: 0.6500 - val_loss: 0.7454 - val_accuracy: 0.1500\n",
            "Epoch 8/15\n",
            "2/2 [==============================] - 0s 131ms/step - loss: 0.1814 - accuracy: 0.7667 - val_loss: 0.7166 - val_accuracy: 0.1500\n",
            "Epoch 9/15\n",
            "2/2 [==============================] - 0s 104ms/step - loss: 0.1152 - accuracy: 0.6000 - val_loss: 0.6532 - val_accuracy: 0.1500\n",
            "Epoch 10/15\n",
            "2/2 [==============================] - 0s 105ms/step - loss: 0.0940 - accuracy: 0.6000 - val_loss: 0.6872 - val_accuracy: 0.1500\n",
            "Epoch 11/15\n",
            "2/2 [==============================] - 0s 91ms/step - loss: 0.0733 - accuracy: 0.6500 - val_loss: 0.6852 - val_accuracy: 0.1500\n",
            "Epoch 12/15\n",
            "2/2 [==============================] - 0s 95ms/step - loss: 0.0640 - accuracy: 0.8000 - val_loss: 0.7639 - val_accuracy: 0.1500\n",
            "Epoch 13/15\n",
            "2/2 [==============================] - 0s 101ms/step - loss: 0.0513 - accuracy: 0.5333 - val_loss: 0.7293 - val_accuracy: 0.1500\n",
            "Epoch 14/15\n",
            "2/2 [==============================] - 0s 99ms/step - loss: 0.0498 - accuracy: 0.6833 - val_loss: 0.7743 - val_accuracy: 0.1500\n",
            "Epoch 15/15\n",
            "2/2 [==============================] - 0s 90ms/step - loss: 0.0433 - accuracy: 0.5667 - val_loss: 0.8650 - val_accuracy: 0.1500\n"
          ]
        },
        {
          "data": {
            "text/plain": [
              "<keras.callbacks.History at 0x1b994821cc0>"
            ]
          },
          "execution_count": 38,
          "metadata": {},
          "output_type": "execute_result"
        }
      ],
      "source": [
        "model.compile(optimizer='adam',\n",
        "              loss='binary_crossentropy',\n",
        "              metrics=['accuracy'])\n",
        "\n",
        "\n",
        "checkpoint_cb = keras.callbacks.ModelCheckpoint('best-model.h5', \n",
        "                                                save_best_only=True)\n",
        "\n",
        "early_stopping_cb = keras.callbacks.EarlyStopping(patience=3,\n",
        "                                                 restore_best_weights=True)\n",
        "\n",
        "model.fit(X_train, Y_train, epochs=15, batch_size = 32,\n",
        "                    validation_data=(X_val, Y_val))\n"
      ]
    },
    {
      "cell_type": "code",
      "execution_count": 39,
      "metadata": {
        "colab": {
          "base_uri": "https://localhost:8080/",
          "height": 353
        },
        "id": "ZTxVU6YaXzWZ",
        "outputId": "39d889e9-fdda-43e6-bb03-9e86fcddd8dd"
      },
      "outputs": [
        {
          "name": "stdout",
          "output_type": "stream",
          "text": [
            "1/1 [==============================] - 0s 56ms/step - loss: 0.9077 - accuracy: 0.1000\n"
          ]
        },
        {
          "data": {
            "text/plain": [
              "[0.9077480435371399, 0.10000000149011612]"
            ]
          },
          "execution_count": 39,
          "metadata": {},
          "output_type": "execute_result"
        }
      ],
      "source": [
        "model.evaluate(X_test, Y_test)"
      ]
    },
    {
      "cell_type": "code",
      "execution_count": 40,
      "metadata": {},
      "outputs": [],
      "source": [
        "model.save(\"saved_model.h5\")"
      ]
    },
    {
      "cell_type": "markdown",
      "metadata": {},
      "source": []
    },
    {
      "cell_type": "code",
      "execution_count": 41,
      "metadata": {},
      "outputs": [],
      "source": [
        "# tf.keras.models.load_model('saved_model.h5')"
      ]
    },
    {
      "cell_type": "code",
      "execution_count": 42,
      "metadata": {},
      "outputs": [],
      "source": [
        "# data = []\n",
        "# for n in range(11, 21):\n",
        "#     for post in MBTI[\"posts\"][100*(n-1):(100 * n)]:\n",
        "#         sentence = clean_text(str(post))\n",
        "#         sentence = split_into_sentences(sentence)\n",
        "#         if len(sentence) < 50:\n",
        "#             temp = [\"\"] * (50-len(sentence))\n",
        "#             sentence = sentence + temp\n",
        "#         processedinput = bert_process(sentence)\n",
        "#         data.append(processedinput[:6])"
      ]
    },
    {
      "cell_type": "code",
      "execution_count": 43,
      "metadata": {},
      "outputs": [],
      "source": [
        "# Y_label = labels[1000: 2000]"
      ]
    },
    {
      "cell_type": "code",
      "execution_count": 44,
      "metadata": {},
      "outputs": [],
      "source": [
        "# X_train, X_test, Y_train, Y_test = train_test_split(\n",
        "#     data, Y_label, test_size=TEST_SIZE, random_state=42)"
      ]
    },
    {
      "cell_type": "code",
      "execution_count": 45,
      "metadata": {},
      "outputs": [],
      "source": [
        "# X_val, X_test, Y_val, Y_test = train_test_split(\n",
        "#     X_test, Y_test, test_size = VAL_SIZE, random_state=42)"
      ]
    },
    {
      "cell_type": "code",
      "execution_count": 46,
      "metadata": {},
      "outputs": [],
      "source": [
        "# X_train = tf.convert_to_tensor(X_train)\n",
        "# Y_train = tf.convert_to_tensor(Y_train)\n",
        "# X_val = tf.convert_to_tensor(X_val)\n",
        "# Y_val = tf.convert_to_tensor(Y_val)\n",
        "# X_test = tf.convert_to_tensor(X_test)\n",
        "# Y_test = tf.convert_to_tensor(Y_test)"
      ]
    },
    {
      "cell_type": "code",
      "execution_count": 47,
      "metadata": {},
      "outputs": [],
      "source": [
        "# model.fit(X_train, Y_train, epochs=20, batch_size = 32,\n",
        "#                     validation_data=(X_val, Y_val))\n",
        "#                     #callbacks=[checkpoint_cb, early_stopping_cb])"
      ]
    },
    {
      "cell_type": "code",
      "execution_count": 48,
      "metadata": {},
      "outputs": [],
      "source": [
        "# model.evaluate(X_test, Y_test)"
      ]
    },
    {
      "cell_type": "code",
      "execution_count": 49,
      "metadata": {},
      "outputs": [],
      "source": [
        "# model.save(\"saved_model.h5\")"
      ]
    },
    {
      "cell_type": "markdown",
      "metadata": {},
      "source": [
        "# Predict\n"
      ]
    },
    {
      "cell_type": "code",
      "execution_count": 50,
      "metadata": {},
      "outputs": [],
      "source": [
        "def preprocess_text(text) : \n",
        "    sentence = clean_text(str(text))\n",
        "    sentence = split_into_sentences(sentence)\n",
        "    if len(sentence) < 50:\n",
        "        temp = [\"\"] * (50-len(sentence))\n",
        "        sentence = sentence + temp\n",
        "    processedinput = bert_process(sentence)\n",
        "    # input.append(processedinput[:6])\n",
        "    return processedinput"
      ]
    },
    {
      "cell_type": "code",
      "execution_count": null,
      "metadata": {},
      "outputs": [],
      "source": []
    },
    {
      "cell_type": "code",
      "execution_count": 51,
      "metadata": {},
      "outputs": [],
      "source": [
        "text1 = \"Omg pls Ull be the best honda7 driver ever One day ill see the coolest honda7. Hmm I honestly dont know much about cats Cars* LOL. Like a chaotic one? I think? U know me im p quite. Go to bed. Omg am i finally seeing allen on valo?! Wht the heck Why r u still up. Lollll GO TO BED Wowow so many friends. Ive never been this proud Like a proud mom. Cant wait to get carried by u😍\"\n",
        "text2 = \"yoooooo looks so good did it hurt a lot lowkey wanna get mine too OMG thats scary as hell cuz u look so good yeah true but ur nose looks so pretty how much did it cost u what the fuck thats a lot YES PLEASE COME i feel like you got skinnier like u have no fat TEACH ME still under 50 right hell nahhhh thats insane tho its all edits btw\"\n",
        "text3 = \"Dang this is good It def needs some practice although we’ve been told how to skim thru papers. I think im getting better at it too I skimmed thru so many papers for my grad apps and lab searches. Also Its 9:44 and i alr had a coffee but it wasnt enough of caffeine for me Should i get another one or am i going too crazy. I hv a quiz tmrw 9am so im not sure if i can sleep today lolll. Well the quiz is alr at early in the morning So cant rly study beforehand. Its more like reviewing Idk im honestly fcked at this point Should hv gone to the lectures at least but they were at 9am and the lecturer is so terrible so .. \"\n",
        "\n",
        "input1 = [preprocess_text(text1)]\n",
        "input2 = [preprocess_text(text2)]\n",
        "input3 = [preprocess_text(text3)]\n"
      ]
    },
    {
      "cell_type": "code",
      "execution_count": null,
      "metadata": {},
      "outputs": [],
      "source": []
    },
    {
      "cell_type": "code",
      "execution_count": 52,
      "metadata": {},
      "outputs": [
        {
          "name": "stdout",
          "output_type": "stream",
          "text": [
            "1/1 [==============================] - 0s 388ms/step\n",
            "[0.34086472 0.55701387 0.21050777 0.68700796]\n"
          ]
        }
      ],
      "source": [
        "input1 = tf.convert_to_tensor(input1)\n",
        "prediction1 = model.predict(input1)\n",
        "print(prediction1[0])"
      ]
    },
    {
      "cell_type": "code",
      "execution_count": 53,
      "metadata": {},
      "outputs": [
        {
          "name": "stdout",
          "output_type": "stream",
          "text": [
            "ISFP\n"
          ]
        }
      ],
      "source": [
        "ielabel = [\"I\", \"E\"]\n",
        "nslabel = [\"N\",\"S\"]\n",
        "ftlabel = [\"F\", \"T\"]\n",
        "jplabel = [\"J\", \"P\"]\n",
        "\n",
        "mbti = ielabel[round(prediction1[0][0])] + nslabel[round(prediction1[0][1])] + ftlabel[round(prediction1[0][2])] + jplabel[round(prediction1[0][3])]\n",
        "\n",
        "print(mbti)"
      ]
    },
    {
      "cell_type": "code",
      "execution_count": 54,
      "metadata": {},
      "outputs": [
        {
          "name": "stdout",
          "output_type": "stream",
          "text": [
            "1/1 [==============================] - 0s 33ms/step\n",
            "[0.16191423 0.6875887  0.11615215 0.6795502 ]\n"
          ]
        }
      ],
      "source": [
        "input2 = tf.convert_to_tensor(input2)\n",
        "prediction = model.predict(input2)\n",
        "print(prediction[0])"
      ]
    },
    {
      "cell_type": "code",
      "execution_count": 55,
      "metadata": {},
      "outputs": [
        {
          "name": "stdout",
          "output_type": "stream",
          "text": [
            "ISFP\n"
          ]
        }
      ],
      "source": [
        "ielabel = [\"I\", \"E\"]\n",
        "nslabel = [\"N\",\"S\"]\n",
        "ftlabel = [\"F\", \"T\"]\n",
        "jplabel = [\"J\", \"P\"]\n",
        "\n",
        "mbti = ielabel[round(prediction[0][0])] + nslabel[round(prediction[0][1])] + ftlabel[round(prediction[0][2])] + jplabel[round(prediction[0][3])]\n",
        "\n",
        "print(mbti)"
      ]
    },
    {
      "cell_type": "code",
      "execution_count": 56,
      "metadata": {},
      "outputs": [
        {
          "name": "stdout",
          "output_type": "stream",
          "text": [
            "1/1 [==============================] - 0s 34ms/step\n",
            "[0.34161758 0.22485428 0.1376398  0.7524449 ]\n"
          ]
        }
      ],
      "source": [
        "input3 = tf.convert_to_tensor(input3)\n",
        "prediction = model.predict(input3)\n",
        "print(prediction[0])"
      ]
    },
    {
      "cell_type": "code",
      "execution_count": 57,
      "metadata": {},
      "outputs": [
        {
          "name": "stdout",
          "output_type": "stream",
          "text": [
            "INFP\n"
          ]
        }
      ],
      "source": [
        "ielabel = [\"I\", \"E\"]\n",
        "nslabel = [\"N\",\"S\"]\n",
        "ftlabel = [\"F\", \"T\"]\n",
        "jplabel = [\"J\", \"P\"]\n",
        "\n",
        "mbti = ielabel[round(prediction[0][0])] + nslabel[round(prediction[0][1])] + ftlabel[round(prediction[0][2])] + jplabel[round(prediction[0][3])]\n",
        "\n",
        "print(mbti)"
      ]
    },
    {
      "cell_type": "code",
      "execution_count": 58,
      "metadata": {},
      "outputs": [
        {
          "name": "stdout",
          "output_type": "stream",
          "text": [
            "1/1 [==============================] - 0s 29ms/step\n",
            "[0.5673296  0.5036518  0.12522899 0.80509   ]\n"
          ]
        }
      ],
      "source": [
        "text = \"Lol. Hangover is so painful. Do u know if theyre giving out the tests today? 329? Hehe i know~. It was so hard to wake up tho. I had like 40 alarms just to wake up at 9 ;). Okie then i’ll see u in class!. omg so cutee. And thankk uu. Do u know how to do this question?? Why??? Wut about this. Thank uuu. Ahahaha. Okiee. Ohhh okayy. Okieeee thank uu. Yeayea. Im free! Just give me 10 minutes. Yupyup let me jnow when ur donw.\"\n",
        "input = [preprocess_text(text)]\n",
        "input = tf.convert_to_tensor(input)\n",
        "prediction = model.predict(input)\n",
        "print(prediction[0])"
      ]
    },
    {
      "cell_type": "code",
      "execution_count": 59,
      "metadata": {},
      "outputs": [
        {
          "name": "stdout",
          "output_type": "stream",
          "text": [
            "ESFP\n"
          ]
        }
      ],
      "source": [
        "ielabel = [\"I\", \"E\"]\n",
        "nslabel = [\"N\",\"S\"]\n",
        "ftlabel = [\"F\", \"T\"]\n",
        "jplabel = [\"J\", \"P\"]\n",
        "\n",
        "mbti = ielabel[round(prediction[0][0])] + nslabel[round(prediction[0][1])] + ftlabel[round(prediction[0][2])] + jplabel[round(prediction[0][3])]\n",
        "\n",
        "print(mbti)"
      ]
    }
  ],
  "metadata": {
    "accelerator": "GPU",
    "colab": {
      "collapsed_sections": [
        "pcw7jcZoQZLH"
      ],
      "provenance": []
    },
    "gpuClass": "standard",
    "kernelspec": {
      "display_name": "Python 3.10.8 64-bit",
      "language": "python",
      "name": "python3"
    },
    "language_info": {
      "codemirror_mode": {
        "name": "ipython",
        "version": 3
      },
      "file_extension": ".py",
      "mimetype": "text/x-python",
      "name": "python",
      "nbconvert_exporter": "python",
      "pygments_lexer": "ipython3",
      "version": "3.10.8"
    },
    "orig_nbformat": 4,
    "vscode": {
      "interpreter": {
        "hash": "358ce60597969b39390c8995868780551e8099dd498e415dbd173842b6368b46"
      }
    }
  },
  "nbformat": 4,
  "nbformat_minor": 0
}

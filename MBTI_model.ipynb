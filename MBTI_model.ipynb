{
  "cells": [
    {
      "cell_type": "code",
      "execution_count": 1,
      "metadata": {
        "colab": {
          "base_uri": "https://localhost:8080/"
        },
        "id": "d7eTv9Sy-o3S",
        "outputId": "8df45358-5b29-4242-d4d9-4fa282e43ff8"
      },
      "outputs": [],
      "source": [
        "#!pip install tensorflow_hub\n",
        "#!pip install tensorflow_text\n",
        "#!pip install numpy\n",
        "#!pip install tensorflow\n",
        "#!pip install pandas\n",
        "#!pip install SenticNet\n",
        "#!pip install tensorflow.keras "
      ]
    },
    {
      "cell_type": "code",
      "execution_count": 2,
      "metadata": {
        "colab": {
          "base_uri": "https://localhost:8080/",
          "height": 394
        },
        "id": "fM6VB_Qb-o3U",
        "outputId": "e7328ec1-dc0f-42bc-d0f8-403b482e44cd"
      },
      "outputs": [],
      "source": [
        "import tensorflow_hub as hub\n",
        "import tensorflow_text as text\n",
        "import numpy as np\n",
        "import tensorflow as tf\n",
        "import pandas as pd\n",
        "# from senticnet.senticnet import SenticNet\n",
        "import re\n",
        "import string\n",
        "from tensorflow import keras\n",
        "from tensorflow.keras import datasets, layers, models\n",
        "from sklearn.model_selection import train_test_split\n",
        "#github test first commit"
      ]
    },
    {
      "cell_type": "code",
      "execution_count": 3,
      "metadata": {},
      "outputs": [],
      "source": [
        "# disable GPU\n",
        "#import os\n",
        "#os.environ[\"CUDA_VISIBLE_DEVICES\"] = \"-1\""
      ]
    },
    {
      "cell_type": "code",
      "execution_count": 4,
      "metadata": {},
      "outputs": [
        {
          "name": "stdout",
          "output_type": "stream",
          "text": [
            "2.10.1\n"
          ]
        }
      ],
      "source": [
        "print(tf.__version__)"
      ]
    },
    {
      "cell_type": "code",
      "execution_count": 5,
      "metadata": {},
      "outputs": [
        {
          "name": "stdout",
          "output_type": "stream",
          "text": [
            "Num GPUs Available:  1\n"
          ]
        }
      ],
      "source": [
        "print(\"Num GPUs Available: \", len(tf.config.list_physical_devices('GPU')))"
      ]
    },
    {
      "cell_type": "code",
      "execution_count": 6,
      "metadata": {
        "id": "BUoLkQP6-o3W"
      },
      "outputs": [],
      "source": [
        "preprocess_url = \"https://tfhub.dev/tensorflow/bert_en_uncased_preprocess/3\"\n",
        "encoder_url = \"https://tfhub.dev/tensorflow/bert_en_uncased_L-12_H-768_A-12/4\""
      ]
    },
    {
      "cell_type": "code",
      "execution_count": 7,
      "metadata": {
        "colab": {
          "base_uri": "https://localhost:8080/"
        },
        "id": "Q1yt5O3Z-o3X",
        "outputId": "4247dfb7-5b44-4f16-9b48-2f993db5fd43"
      },
      "outputs": [
        {
          "name": "stdout",
          "output_type": "stream",
          "text": [
            "WARNING:tensorflow:Please fix your imports. Module tensorflow.python.training.tracking.data_structures has been moved to tensorflow.python.trackable.data_structures. The old module will be deleted in version 2.11.\n"
          ]
        }
      ],
      "source": [
        "bert_preprocess_model = hub.KerasLayer(preprocess_url)\n",
        "bert_model = hub.KerasLayer(encoder_url)"
      ]
    },
    {
      "cell_type": "code",
      "execution_count": null,
      "metadata": {
        "id": "AuqSKbSl-o3Y"
      },
      "outputs": [],
      "source": [
        "# input : 126 words as sentence  if exceeds 126, split it, if less than 126 apply padding of 0.\n",
        "# output : 128 * 768\n",
        "\n",
        "def bert_process(text_to_process):\n",
        "    text_preprocessed = bert_preprocess_model(text_to_process)\n",
        "\n",
        "    inputk = {'input_word_ids' : [], 'input_mask': [], 'input_type_ids': []}\n",
        "    \n",
        "    for i in text_preprocessed.keys():\n",
        "        index = 0\n",
        "\n",
        "        for arr in text_preprocessed[i]:\n",
        "            arr = list(arr.numpy())\n",
        "            arr = list(filter(lambda num: num != 0, arr))\n",
        "            if len(inputk[i]) == 0:\n",
        "                inputk[i].append(arr)\n",
        "            else:\n",
        "                inputk[i][index] = list(filter(lambda num: num != 0, inputk[i][index]))\n",
        "                if len(inputk[i][index]) + len(arr) -1 > 128:\n",
        "                    inputk[i].append(arr)\n",
        "                    lengthwithoutzero = len(inputk[i][index])\n",
        "                    padd = [0]*(128-lengthwithoutzero)\n",
        "                    inputk[i][index].extend(padd) \n",
        "                    index += 1\n",
        "                else:\n",
        "                    inputk[i][index].extend(arr[1:])             \n",
        "        lengthwithoutzero = len(inputk[i][index])\n",
        "        padd = [0]*(128-lengthwithoutzero)\n",
        "        inputk[i][index].extend(padd)\n",
        "\n",
        "    if len(inputk[\"input_word_ids\"]) < 6:\n",
        "        paddinput = [\"\"] * ( 6-len(inputk[\"input_word_ids\"]))\n",
        "        padd2 = bert_preprocess_model(paddinput)\n",
        "        for arr in padd2[\"input_word_ids\"]:\n",
        "            inputk[\"input_word_ids\"].append(arr)\n",
        "        for arr in padd2[\"input_mask\"]:\n",
        "            inputk[\"input_mask\"].append(arr)\n",
        "\n",
        "            \n",
        "    inputk[\"input_mask\"] = tf.convert_to_tensor(inputk[\"input_mask\"])\n",
        "    inputk[\"input_type_ids\"] = tf.convert_to_tensor(inputk[\"input_type_ids\"])\n",
        "    inputk[\"input_word_ids\"] = tf.convert_to_tensor(inputk[\"input_word_ids\"])\n",
        "\n",
        "    bert_results = bert_model(inputk)\n",
        "    tempres = (bert_results[\"sequence_output\"].numpy()).tolist()\n",
        "    \n",
        "    return tempres"
      ]
    },
    {
      "cell_type": "code",
      "execution_count": null,
      "metadata": {},
      "outputs": [],
      "source": [
        "def clean_text(text):\n",
        "    regex = re.compile('[%s]' % re.escape('|'))\n",
        "    text = regex.sub(\" \", text)\n",
        "    words = str(text).split()\n",
        "    words = [i.lower() + \" \" for i in words]\n",
        "    words = [i for i in words if not \"http\" in i]\n",
        "    words = \" \".join(words)\n",
        "    # words = words.translate(words.maketrans('', '', string.punctuation))\n",
        "    return words"
      ]
    },
    {
      "cell_type": "code",
      "execution_count": null,
      "metadata": {},
      "outputs": [],
      "source": [
        "alphabets= \"([A-Za-z])\"\n",
        "prefixes = \"(Mr|St|Mrs|Ms|Dr)[.]\"\n",
        "suffixes = \"(Inc|Ltd|Jr|Sr|Co)\"\n",
        "starters = \"(Mr|Mrs|Ms|Dr|He\\s|She\\s|It\\s|They\\s|Their\\s|Our\\s|We\\s|But\\s|However\\s|That\\s|This\\s|Wherever)\"\n",
        "acronyms = \"([A-Z][.][A-Z][.](?:[A-Z][.])?)\"\n",
        "websites = \"[.](com|net|org|io|gov|watch)\"\n",
        "digits = \"([0-9])\"\n",
        "\n",
        "def split_into_sentences(text):\n",
        "    text = \" \" + text + \"  \"\n",
        "    text = text.replace(\"\\n\",\" \")\n",
        "    text = re.sub(prefixes,\"\\\\1<prd>\",text)\n",
        "    text = re.sub(websites,\"<prd>\\\\1\",text)\n",
        "    text = re.sub(digits + \"[.]\" + digits,\"\\\\1<prd>\\\\2\",text)\n",
        "    if \"...\" in text: text = text.replace(\"...\",\"<prd><prd><prd>\")\n",
        "    if \"Ph.D\" in text: text = text.replace(\"Ph.D.\",\"Ph<prd>D<prd>\")\n",
        "    text = re.sub(\"\\s\" + alphabets + \"[.] \",\" \\\\1<prd> \",text)\n",
        "    text = re.sub(acronyms+\" \"+starters,\"\\\\1<stop> \\\\2\",text)\n",
        "    text = re.sub(alphabets + \"[.]\" + alphabets + \"[.]\" + alphabets + \"[.]\",\"\\\\1<prd>\\\\2<prd>\\\\3<prd>\",text)\n",
        "    text = re.sub(alphabets + \"[.]\" + alphabets + \"[.]\",\"\\\\1<prd>\\\\2<prd>\",text)\n",
        "    text = re.sub(\" \"+suffixes+\"[.] \"+starters,\" \\\\1<stop> \\\\2\",text)\n",
        "    text = re.sub(\" \"+suffixes+\"[.]\",\" \\\\1<prd>\",text)\n",
        "    text = re.sub(\" \" + alphabets + \"[.]\",\" \\\\1<prd>\",text)\n",
        "    if \"”\" in text: text = text.replace(\".”\",\"”.\")\n",
        "    if \"\\\"\" in text: text = text.replace(\".\\\"\",\"\\\".\")\n",
        "    if \"!\" in text: text = text.replace(\"!\\\"\",\"\\\"!\")\n",
        "    if \"?\" in text: text = text.replace(\"?\\\"\",\"\\\"?\")\n",
        "    text = text.replace(\".\",\".<stop>\")\n",
        "    text = text.replace(\"?\",\"?<stop>\")\n",
        "    text = text.replace(\"!\",\"!<stop>\")\n",
        "    text = text.replace(\"|||\",\"<stop>\")\n",
        "    text = text.replace(\"<prd>\",\".\")\n",
        "    sentences = text.split(\"<stop>\")\n",
        "    sentences = sentences[:-1]\n",
        "    sentences = [s.strip() for s in sentences]\n",
        "    return sentences"
      ]
    },
    {
      "cell_type": "code",
      "execution_count": null,
      "metadata": {},
      "outputs": [],
      "source": [
        "MBTI = pd.read_csv('mbti_1.csv')\n",
        "data = []"
      ]
    },
    {
      "cell_type": "code",
      "execution_count": null,
      "metadata": {
        "id": "RLGkUPgS-o3e"
      },
      "outputs": [],
      "source": [
        "# sample is number of samples being used.\n",
        "# total data = \n",
        "# [sample, 6, 128, 768]\n",
        "sample = 1000\n",
        "\n",
        "for n in range(1,int(sample/100) + 1):\n",
        "    for post in MBTI[\"posts\"][100*(n-1):(100 * n)]:\n",
        "        sentence = clean_text(str(post))\n",
        "        sentence = split_into_sentences(sentence)\n",
        "        if len(sentence) < 50:\n",
        "            temp = [\"\"] * (50-len(sentence))\n",
        "            sentence = sentence + temp\n",
        "        processedinput = bert_process(sentence)\n",
        "        data.append(processedinput[:6])"
      ]
    },
    {
      "cell_type": "code",
      "execution_count": null,
      "metadata": {
        "colab": {
          "base_uri": "https://localhost:8080/"
        },
        "id": "SNCFMVrK-o3f",
        "outputId": "c08a9eff-b9b2-4138-8e1c-2ae066e52e82"
      },
      "outputs": [
        {
          "name": "stdout",
          "output_type": "stream",
          "text": [
            "6\n",
            "128\n",
            "768\n"
          ]
        }
      ],
      "source": [
        "print(len(data[0]))\n",
        "print(len(processedinput[0]))\n",
        "print(len(processedinput[0][0]))"
      ]
    },
    {
      "cell_type": "code",
      "execution_count": null,
      "metadata": {},
      "outputs": [
        {
          "name": "stdout",
          "output_type": "stream",
          "text": [
            "300\n"
          ]
        }
      ],
      "source": [
        "print(len(data))\n",
        "for i in data:\n",
        "    if len(i) != 6:\n",
        "        print(len(i))"
      ]
    },
    {
      "cell_type": "code",
      "execution_count": null,
      "metadata": {
        "id": "CECaROa4-o3g"
      },
      "outputs": [
        {
          "data": {
            "text/plain": [
              "'\\n# labels = []\\nIElabels = []\\nNSlabels = []\\nFTlabels = []\\nJPlabels = []\\n\\ntemplabels = MBTI[\"type\"]\\n# labelmap = {\"INTJ\" : 0.0, \"INTP\": 1.0, \"ENTJ\": 2.0, \"ENTP\" : 3.0, \"INFJ\": 4.0, \"INFP\": 5.0, \"ENFJ\": 6.0, \"ENFP\": 7.0, \"ISTJ\": 8.0, \"ISFJ\": 9.0, \"ESTJ\": 10.0, \"ESFJ\": 11.0, \"ISTP\": 12.0, \"ISFP\": 13.0, \"ESTP\": 14.0, \"ESFP\": 15.0}\\n# labeindex = [\"INTJ\", \"INTP\", \"ENTJ\", \"ENTP\", \"INFJ\", \"INFP\", \"ENFJ\", \"ENFP\", \"ISTJ\", \"ISFJ\", \"ESTJ\", \"ESFJ\", \"ISTP\", \"ISFP\", \"ESTP\", \"ESFP\"]\\nlabelmap = {\"I\" : 0.0, \"E\": 1.0, \"N\": 0.0, \"S\" : 1.0, \"F\": 0.0, \"T\": 1.0, \"J\": 0.0, \"P\": 1.0}\\n\\nfor l in templabels:\\n    IElabels.append(labelmap[l[0]])\\n    NSlabels.append(labelmap[l[1]])\\n    FTlabels.append(labelmap[l[2]])\\n    JPlabels.append(labelmap[l[3]])\\n'"
            ]
          },
          "execution_count": 15,
          "metadata": {},
          "output_type": "execute_result"
        }
      ],
      "source": [
        "'''\n",
        "# labels = []\n",
        "IElabels = []\n",
        "NSlabels = []\n",
        "FTlabels = []\n",
        "JPlabels = []\n",
        "\n",
        "templabels = MBTI[\"type\"]\n",
        "# labelmap = {\"INTJ\" : 0.0, \"INTP\": 1.0, \"ENTJ\": 2.0, \"ENTP\" : 3.0, \"INFJ\": 4.0, \"INFP\": 5.0, \"ENFJ\": 6.0, \"ENFP\": 7.0, \"ISTJ\": 8.0, \"ISFJ\": 9.0, \"ESTJ\": 10.0, \"ESFJ\": 11.0, \"ISTP\": 12.0, \"ISFP\": 13.0, \"ESTP\": 14.0, \"ESFP\": 15.0}\n",
        "# labeindex = [\"INTJ\", \"INTP\", \"ENTJ\", \"ENTP\", \"INFJ\", \"INFP\", \"ENFJ\", \"ENFP\", \"ISTJ\", \"ISFJ\", \"ESTJ\", \"ESFJ\", \"ISTP\", \"ISFP\", \"ESTP\", \"ESFP\"]\n",
        "labelmap = {\"I\" : 0.0, \"E\": 1.0, \"N\": 0.0, \"S\" : 1.0, \"F\": 0.0, \"T\": 1.0, \"J\": 0.0, \"P\": 1.0}\n",
        "\n",
        "for l in templabels:\n",
        "    IElabels.append(labelmap[l[0]])\n",
        "    NSlabels.append(labelmap[l[1]])\n",
        "    FTlabels.append(labelmap[l[2]])\n",
        "    JPlabels.append(labelmap[l[3]])\n",
        "'''"
      ]
    },
    {
      "cell_type": "code",
      "execution_count": null,
      "metadata": {},
      "outputs": [],
      "source": [
        "labels = []\n",
        "templabels = MBTI[\"type\"]\n",
        "labelmap = {\"I\" : 0.0, \"E\": 1.0, \"N\": 0.0, \"S\" : 1.0, \"F\": 0.0, \"T\": 1.0, \"J\": 0.0, \"P\": 1.0}\n",
        "\n",
        "\n",
        "for l in templabels:\n",
        "    labels.append([labelmap[l[0]], labelmap[l[1]], labelmap[l[2]], labelmap[l[3]]])"
      ]
    },
    {
      "cell_type": "code",
      "execution_count": null,
      "metadata": {},
      "outputs": [
        {
          "name": "stdout",
          "output_type": "stream",
          "text": [
            "ENTP\n"
          ]
        }
      ],
      "source": [
        "print(templabels[1])"
      ]
    },
    {
      "cell_type": "markdown",
      "metadata": {
        "id": "-cNA8LPXEH_K"
      },
      "source": [
        "#split train, val, test data\n"
      ]
    },
    {
      "cell_type": "code",
      "execution_count": null,
      "metadata": {},
      "outputs": [
        {
          "name": "stdout",
          "output_type": "stream",
          "text": [
            "[1.0, 0.0, 1.0, 1.0]\n"
          ]
        }
      ],
      "source": [
        "print(labels[1])"
      ]
    },
    {
      "cell_type": "code",
      "execution_count": null,
      "metadata": {},
      "outputs": [],
      "source": [
        "Y_label = labels[:sample]"
      ]
    },
    {
      "cell_type": "code",
      "execution_count": null,
      "metadata": {
        "id": "w5m7rff4MEIJ"
      },
      "outputs": [
        {
          "data": {
            "text/plain": [
              "'\\nY_IE_label = IElabels[:sample]\\nY_NS_label = NSlabels[:sample]\\nY_FT_label = FTlabels[:sample]\\nY_JP_label = JPlabels[:sample]\\n'"
            ]
          },
          "execution_count": 20,
          "metadata": {},
          "output_type": "execute_result"
        }
      ],
      "source": [
        "'''\n",
        "Y_IE_label = IElabels[:sample]\n",
        "Y_NS_label = NSlabels[:sample]\n",
        "Y_FT_label = FTlabels[:sample]\n",
        "Y_JP_label = JPlabels[:sample]\n",
        "'''"
      ]
    },
    {
      "cell_type": "code",
      "execution_count": null,
      "metadata": {},
      "outputs": [],
      "source": [
        "# sum of val data and test data\n",
        "TEST_SIZE = 0.4\n",
        "# portion of val from test\n",
        "VAL_SIZE = 0.5"
      ]
    },
    {
      "cell_type": "code",
      "execution_count": null,
      "metadata": {
        "id": "uvUNoyq9JSw0"
      },
      "outputs": [],
      "source": [
        "# split IE_label to test train\n",
        "X_train, X_test, Y_train, Y_test = train_test_split(\n",
        "    data, Y_label, test_size=TEST_SIZE, random_state=42)"
      ]
    },
    {
      "cell_type": "code",
      "execution_count": null,
      "metadata": {
        "id": "q6-x350eRFkX"
      },
      "outputs": [],
      "source": [
        "# split IE_label to test val\n",
        "X_val, X_test, Y_val, Y_test = train_test_split(\n",
        "    X_test, Y_test, test_size = VAL_SIZE, random_state=42)"
      ]
    },
    {
      "cell_type": "code",
      "execution_count": null,
      "metadata": {},
      "outputs": [],
      "source": [
        "# split IE_label to test train\n",
        "#X_train, X_IEtest, Y_train, Y_IEtest = train_test_split(\n",
        "#    data, Y_IE_label, test_size=TEST_SIZE, random_state=42)"
      ]
    },
    {
      "cell_type": "code",
      "execution_count": null,
      "metadata": {},
      "outputs": [],
      "source": [
        "# split IE_label to test val\n",
        "#X_IE_val, X_IE_test, Y_IE_val, Y_IE_test = train_test_split(\n",
        "#    X_IEtest, Y_IEtest, test_size = VAL_SIZE, random_state=42)"
      ]
    },
    {
      "cell_type": "code",
      "execution_count": null,
      "metadata": {
        "id": "medAcv-7KIY0"
      },
      "outputs": [],
      "source": [
        "# split NS_label to test train\n",
        "#X_train, X_NStest, Y_train, Y_NStest = train_test_split(\n",
        "#    data, Y_NS_label, test_size = TEST_SIZE, random_state=42)"
      ]
    },
    {
      "cell_type": "code",
      "execution_count": null,
      "metadata": {
        "id": "M98SMgiZRzPr"
      },
      "outputs": [],
      "source": [
        "# split NS_label to test val\n",
        "#X_NS_val, X_NS_test, Y_NS_val, Y_NS_test = train_test_split(\n",
        "#    X_NStest, Y_NStest, test_size = VAL_SIZE, random_state=42)"
      ]
    },
    {
      "cell_type": "code",
      "execution_count": null,
      "metadata": {
        "id": "EjLWlj1SN2hH"
      },
      "outputs": [],
      "source": [
        "# split FT_label to test train\n",
        "#X_train, X_FTtest, Y_train, Y_FTtest = train_test_split(\n",
        "#    data, Y_FT_label, test_size = TEST_SIZE, random_state=42)"
      ]
    },
    {
      "cell_type": "code",
      "execution_count": null,
      "metadata": {
        "id": "O-RpllVuSmm4"
      },
      "outputs": [],
      "source": [
        "# split FT_label to test val\n",
        "#X_FT_val, X_FT_test, Y_FT_val, Y_FT_test = train_test_split(\n",
        "#    X_FTtest, Y_FTtest, test_size = VAL_SIZE, random_state=42)"
      ]
    },
    {
      "cell_type": "code",
      "execution_count": null,
      "metadata": {
        "id": "6I8L8147N7OV"
      },
      "outputs": [],
      "source": [
        "# split JP_label to test train\n",
        "#X_train, X_JPtest, Y_train, Y_JPtest = train_test_split(\n",
        "#    data, Y_JP_label, test_size = TEST_SIZE, random_state=42)"
      ]
    },
    {
      "cell_type": "code",
      "execution_count": null,
      "metadata": {
        "id": "asCWpEI0Sx1b"
      },
      "outputs": [],
      "source": [
        "# split JP_label to test val\n",
        "#X_JP_val, X_JP_test, Y_JP_val, Y_JP_test = train_test_split(\n",
        "#    X_JPtest, Y_JPtest, test_size = VAL_SIZE, random_state=42)"
      ]
    },
    {
      "cell_type": "markdown",
      "metadata": {
        "id": "pcw7jcZoQZLH"
      },
      "source": [
        "# IE model"
      ]
    },
    {
      "cell_type": "code",
      "execution_count": null,
      "metadata": {
        "id": "JfwvjN0i-o3i"
      },
      "outputs": [],
      "source": [
        "#convert to tensor\n",
        "X_train = tf.convert_to_tensor(X_train)\n",
        "Y_train = tf.convert_to_tensor(Y_train)\n",
        "X_val = tf.convert_to_tensor(X_val)\n",
        "Y_val = tf.convert_to_tensor(Y_val)\n",
        "X_test = tf.convert_to_tensor(X_test)\n",
        "Y_test = tf.convert_to_tensor(Y_test)"
      ]
    },
    {
      "cell_type": "code",
      "execution_count": null,
      "metadata": {
        "id": "3NZKUy8C-o3l"
      },
      "outputs": [],
      "source": [
        "# model constructor for CNN classification\n",
        "def model_fn() :\n",
        "  model = models.Sequential()\n",
        "  model.add(layers.Conv2D(32, (1, 3), activation='relu', input_shape=X_train.shape[1:]))\n",
        "  model.add(layers.Conv2D(32, (3, 3), activation='relu'))\n",
        "  model.add(layers.Conv2D(32, (3, 1), activation='relu'))\n",
        "  \n",
        "  # dropout\n",
        "  # model.add(layers.Dropout(0.3))\n",
        "  # fully connected layer\n",
        "  model.add(layers.Flatten())\n",
        "  model.add(layers.Dense(128, activation='sigmoid'))\n",
        "  model.add(layers.Dense(4, activation='sigmoid'))\n",
        "  #\n",
        "  return model"
      ]
    },
    {
      "cell_type": "code",
      "execution_count": null,
      "metadata": {
        "colab": {
          "base_uri": "https://localhost:8080/"
        },
        "id": "AEtcfBtg-o3l",
        "outputId": "37e675a3-9cfe-409e-c212-50e8212d29dd"
      },
      "outputs": [
        {
          "name": "stdout",
          "output_type": "stream",
          "text": [
            "Model: \"sequential\"\n",
            "_________________________________________________________________\n",
            " Layer (type)                Output Shape              Param #   \n",
            "=================================================================\n",
            " conv2d (Conv2D)             (None, 6, 126, 32)        73760     \n",
            "                                                                 \n",
            " conv2d_1 (Conv2D)           (None, 4, 124, 32)        9248      \n",
            "                                                                 \n",
            " conv2d_2 (Conv2D)           (None, 2, 124, 32)        3104      \n",
            "                                                                 \n",
            " flatten (Flatten)           (None, 7936)              0         \n",
            "                                                                 \n",
            " dense (Dense)               (None, 128)               1015936   \n",
            "                                                                 \n",
            " dense_1 (Dense)             (None, 4)                 516       \n",
            "                                                                 \n",
            "=================================================================\n",
            "Total params: 1,102,564\n",
            "Trainable params: 1,102,564\n",
            "Non-trainable params: 0\n",
            "_________________________________________________________________\n"
          ]
        }
      ],
      "source": [
        "model = model_fn()\n",
        "model.summary()"
      ]
    },
    {
      "cell_type": "code",
      "execution_count": null,
      "metadata": {
        "colab": {
          "base_uri": "https://localhost:8080/"
        },
        "id": "DgXWxoX9-o3m",
        "outputId": "ab35700e-e6ba-4f04-c49e-ad6e97a7aa8a"
      },
      "outputs": [
        {
          "name": "stdout",
          "output_type": "stream",
          "text": [
            "Epoch 1/20\n",
            "6/6 [==============================] - 3s 116ms/step - loss: 0.1823 - accuracy: 0.4722 - val_loss: 0.7952 - val_accuracy: 0.2667\n",
            "Epoch 2/20\n",
            "6/6 [==============================] - 0s 49ms/step - loss: 0.0879 - accuracy: 0.5889 - val_loss: 0.6972 - val_accuracy: 0.3000\n",
            "Epoch 3/20\n",
            "6/6 [==============================] - 0s 50ms/step - loss: 0.0516 - accuracy: 0.4500 - val_loss: 0.7163 - val_accuracy: 0.2167\n",
            "Epoch 4/20\n",
            "6/6 [==============================] - 0s 53ms/step - loss: 0.0379 - accuracy: 0.5722 - val_loss: 0.7563 - val_accuracy: 0.2333\n",
            "Epoch 5/20\n",
            "6/6 [==============================] - 0s 48ms/step - loss: 0.0309 - accuracy: 0.5556 - val_loss: 0.7985 - val_accuracy: 0.2500\n",
            "Epoch 6/20\n",
            "6/6 [==============================] - 0s 50ms/step - loss: 0.0253 - accuracy: 0.5111 - val_loss: 0.7889 - val_accuracy: 0.3000\n",
            "Epoch 7/20\n",
            "6/6 [==============================] - 0s 47ms/step - loss: 0.0229 - accuracy: 0.5889 - val_loss: 0.8038 - val_accuracy: 0.3000\n",
            "Epoch 8/20\n",
            "6/6 [==============================] - 0s 49ms/step - loss: 0.0206 - accuracy: 0.5833 - val_loss: 0.8333 - val_accuracy: 0.2833\n",
            "Epoch 9/20\n",
            "6/6 [==============================] - 0s 51ms/step - loss: 0.0189 - accuracy: 0.5556 - val_loss: 0.8558 - val_accuracy: 0.2667\n",
            "Epoch 10/20\n",
            "6/6 [==============================] - 0s 48ms/step - loss: 0.0177 - accuracy: 0.5556 - val_loss: 0.8618 - val_accuracy: 0.3000\n",
            "Epoch 11/20\n",
            "6/6 [==============================] - 0s 52ms/step - loss: 0.0167 - accuracy: 0.5778 - val_loss: 0.8705 - val_accuracy: 0.2833\n",
            "Epoch 12/20\n",
            "6/6 [==============================] - 0s 47ms/step - loss: 0.0159 - accuracy: 0.5944 - val_loss: 0.8826 - val_accuracy: 0.2833\n",
            "Epoch 13/20\n",
            "6/6 [==============================] - 0s 51ms/step - loss: 0.0151 - accuracy: 0.5389 - val_loss: 0.8998 - val_accuracy: 0.2667\n",
            "Epoch 14/20\n",
            "6/6 [==============================] - 0s 50ms/step - loss: 0.0144 - accuracy: 0.5222 - val_loss: 0.9147 - val_accuracy: 0.3000\n",
            "Epoch 15/20\n",
            "6/6 [==============================] - 0s 48ms/step - loss: 0.0137 - accuracy: 0.5111 - val_loss: 0.9306 - val_accuracy: 0.2833\n",
            "Epoch 16/20\n",
            "6/6 [==============================] - 0s 47ms/step - loss: 0.0131 - accuracy: 0.5500 - val_loss: 0.9492 - val_accuracy: 0.2833\n",
            "Epoch 17/20\n",
            "6/6 [==============================] - 0s 48ms/step - loss: 0.0126 - accuracy: 0.4944 - val_loss: 0.9723 - val_accuracy: 0.2833\n",
            "Epoch 18/20\n",
            "6/6 [==============================] - 0s 48ms/step - loss: 0.0120 - accuracy: 0.5056 - val_loss: 0.9910 - val_accuracy: 0.3000\n",
            "Epoch 19/20\n",
            "6/6 [==============================] - 0s 48ms/step - loss: 0.0115 - accuracy: 0.5111 - val_loss: 1.0110 - val_accuracy: 0.3000\n",
            "Epoch 20/20\n",
            "6/6 [==============================] - 0s 46ms/step - loss: 0.0111 - accuracy: 0.4944 - val_loss: 1.0236 - val_accuracy: 0.2833\n"
          ]
        },
        {
          "data": {
            "text/plain": [
              "<keras.callbacks.History at 0x18cc6e8f910>"
            ]
          },
          "execution_count": 41,
          "metadata": {},
          "output_type": "execute_result"
        }
      ],
      "source": [
        "model.compile(optimizer='adam',\n",
        "              loss='binary_crossentropy',\n",
        "              metrics=['accuracy'])\n",
        "\n",
        "checkpoint_cb = keras.callbacks.ModelCheckpoint('best-model.h5', \n",
        "                                                save_best_only=True)\n",
        "\n",
        "early_stopping_cb = keras.callbacks.EarlyStopping(patience=3,\n",
        "                                                 restore_best_weights=True)\n",
        "\n",
        "model.fit(X_train, Y_train, epochs=20, batch_size = 32,\n",
        "                    validation_data=(X_val, Y_val))\n",
        "                    #callbacks=[checkpoint_cb, early_stopping_cb])\n"
      ]
    },
    {
      "cell_type": "code",
      "execution_count": null,
      "metadata": {
        "colab": {
          "base_uri": "https://localhost:8080/",
          "height": 353
        },
        "id": "ZTxVU6YaXzWZ",
        "outputId": "39d889e9-fdda-43e6-bb03-9e86fcddd8dd"
      },
      "outputs": [
        {
          "name": "stdout",
          "output_type": "stream",
          "text": [
            "2/2 [==============================] - 0s 21ms/step - loss: 0.9408 - accuracy: 0.2667\n"
          ]
        },
        {
          "data": {
            "text/plain": [
              "[0.9408430457115173, 0.2666666805744171]"
            ]
          },
          "execution_count": 42,
          "metadata": {},
          "output_type": "execute_result"
        }
      ],
      "source": [
        "model.evaluate(X_test, Y_test)"
      ]
    },
    {
      "cell_type": "markdown",
      "metadata": {},
      "source": [
        "# Predict\n"
      ]
    },
    {
      "cell_type": "code",
      "execution_count": null,
      "metadata": {},
      "outputs": [],
      "source": [
        "def preprocess_text(text) : \n",
        "    sentence = clean_text(str(text))\n",
        "    sentence = split_into_sentences(sentence)\n",
        "    if len(sentence) < 50:\n",
        "        temp = [\"\"] * (50-len(sentence))\n",
        "        sentence = sentence + temp\n",
        "    processedinput = bert_process(sentence)\n",
        "    # input.append(processedinput[:6])\n",
        "    return processedinput"
      ]
    },
    {
      "cell_type": "code",
      "execution_count": null,
      "metadata": {},
      "outputs": [],
      "source": [
        "text = \"2020 spring was harsh due to covid-19 but it was still fun with friends. After the 2 weeks  of self quarantine, it was good to see familiar faces in korea. Now i am serving the ROK army from tmr 2020.07.06 - 2022.01.05 I hope to see everyone soon and stay safe. My friends Jessie and Sandy will take care of my account. I can still use my phone after 6 weeks so keep in touch\"\n",
        "\n",
        "input = [preprocess_text(text)]\n"
      ]
    },
    {
      "cell_type": "code",
      "execution_count": null,
      "metadata": {},
      "outputs": [
        {
          "name": "stdout",
          "output_type": "stream",
          "text": [
            "1/1 [==============================] - 0s 24ms/step\n",
            "[0.30382717 0.01397496 0.20855604 0.06507045]\n"
          ]
        }
      ],
      "source": [
        "input = tf.convert_to_tensor(input)\n",
        "prediction = model.predict(input)\n",
        "print(prediction[0])"
      ]
    },
    {
      "cell_type": "code",
      "execution_count": null,
      "metadata": {},
      "outputs": [
        {
          "name": "stdout",
          "output_type": "stream",
          "text": [
            "INFJ\n"
          ]
        }
      ],
      "source": [
        "ielabel = [\"I\", \"E\"]\n",
        "nslabel = [\"N\",\"S\"]\n",
        "ftlabel = [\"F\", \"T\"]\n",
        "jplabel = [\"J\", \"P\"]\n",
        "\n",
        "mbti = ielabel[round(prediction[0][0])] + nslabel[round(prediction[0][1])] + ftlabel[round(prediction[0][2])] + jplabel[round(prediction[0][3])]\n",
        "\n",
        "print(mbti)"
      ]
    }
  ],
  "metadata": {
    "accelerator": "GPU",
    "colab": {
      "collapsed_sections": [
        "pcw7jcZoQZLH"
      ],
      "provenance": []
    },
    "gpuClass": "standard",
    "kernelspec": {
      "display_name": "Python 3.10.8 64-bit",
      "language": "python",
      "name": "python3"
    },
    "language_info": {
      "codemirror_mode": {
        "name": "ipython",
        "version": 3
      },
      "file_extension": ".py",
      "mimetype": "text/x-python",
      "name": "python",
      "nbconvert_exporter": "python",
      "pygments_lexer": "ipython3",
      "version": "3.10.8"
    },
    "orig_nbformat": 4,
    "vscode": {
      "interpreter": {
        "hash": "358ce60597969b39390c8995868780551e8099dd498e415dbd173842b6368b46"
      }
    }
  },
  "nbformat": 4,
  "nbformat_minor": 0
}
